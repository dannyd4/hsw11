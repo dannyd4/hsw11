{
 "cells": [
  {
   "cell_type": "markdown",
   "id": "0e4b4596",
   "metadata": {},
   "source": [
    "Дана функция f(x) = (sin(x)/2 + cos(x)/2)^2 * sin(x)"
   ]
  },
  {
   "cell_type": "code",
   "execution_count": 1,
   "id": "92bdbe5d",
   "metadata": {},
   "outputs": [],
   "source": [
    "from sympy.abc import x\n",
    "from sympy import solve, solveset, diff, plot, Interval, oo, sin, cos, nonlinsolve, linsolve\n",
    "from sympy import minimum, maximum, pi, tan, log, S, sqrt, evalf"
   ]
  },
  {
   "cell_type": "code",
   "execution_count": 2,
   "id": "b0df3c0b",
   "metadata": {},
   "outputs": [
    {
     "data": {
      "text/latex": [
       "$\\displaystyle \\left(\\frac{\\sin{\\left(x \\right)}}{2} + \\frac{\\cos{\\left(x \\right)}}{2}\\right)^{2} \\sin{\\left(x \\right)}$"
      ],
      "text/plain": [
       "(sin(x)/2 + cos(x)/2)**2*sin(x)"
      ]
     },
     "execution_count": 2,
     "metadata": {},
     "output_type": "execute_result"
    }
   ],
   "source": [
    "y = ((sin(x)/2 + cos(x)/2)**2 )* sin(x)\n",
    "y"
   ]
  },
  {
   "cell_type": "markdown",
   "id": "396379cd",
   "metadata": {},
   "source": [
    "1. Определить корни"
   ]
  },
  {
   "cell_type": "code",
   "execution_count": 3,
   "id": "7b6eb7f4",
   "metadata": {},
   "outputs": [
    {
     "data": {
      "text/plain": [
       "[0, -pi/4, 3*pi/4, pi]"
      ]
     },
     "execution_count": 3,
     "metadata": {},
     "output_type": "execute_result"
    }
   ],
   "source": [
    "roots = solve(y, x)\n",
    "roots"
   ]
  },
  {
   "cell_type": "code",
   "execution_count": 4,
   "id": "8c9cec9a",
   "metadata": {},
   "outputs": [
    {
     "data": {
      "text/latex": [
       "$\\displaystyle \\left\\{2 n \\pi\\; \\middle|\\; n \\in \\mathbb{Z}\\right\\} \\cup \\left\\{2 n \\pi + \\pi\\; \\middle|\\; n \\in \\mathbb{Z}\\right\\} \\cup \\left\\{2 n \\pi + \\frac{3 \\pi}{4}\\; \\middle|\\; n \\in \\mathbb{Z}\\right\\} \\cup \\left\\{2 n \\pi + \\frac{7 \\pi}{4}\\; \\middle|\\; n \\in \\mathbb{Z}\\right\\}$"
      ],
      "text/plain": [
       "Union(ImageSet(Lambda(_n, 2*_n*pi + 3*pi/4), Integers), ImageSet(Lambda(_n, 2*_n*pi + 7*pi/4), Integers), ImageSet(Lambda(_n, 2*_n*pi + pi), Integers), ImageSet(Lambda(_n, 2*_n*pi), Integers))"
      ]
     },
     "execution_count": 4,
     "metadata": {},
     "output_type": "execute_result"
    }
   ],
   "source": [
    "solveset(y,x)"
   ]
  },
  {
   "cell_type": "markdown",
   "id": "a4290cbf",
   "metadata": {},
   "source": [
    "2. Найти интервалы, на которых функция возрастает и убывает"
   ]
  },
  {
   "cell_type": "code",
   "execution_count": 5,
   "id": "1cb15a1e",
   "metadata": {},
   "outputs": [
    {
     "data": {
      "text/latex": [
       "$\\displaystyle \\left(- \\sin{\\left(x \\right)} + \\cos{\\left(x \\right)}\\right) \\left(\\frac{\\sin{\\left(x \\right)}}{2} + \\frac{\\cos{\\left(x \\right)}}{2}\\right) \\sin{\\left(x \\right)} + \\left(\\frac{\\sin{\\left(x \\right)}}{2} + \\frac{\\cos{\\left(x \\right)}}{2}\\right)^{2} \\cos{\\left(x \\right)}$"
      ],
      "text/plain": [
       "(-sin(x) + cos(x))*(sin(x)/2 + cos(x)/2)*sin(x) + (sin(x)/2 + cos(x)/2)**2*cos(x)"
      ]
     },
     "execution_count": 5,
     "metadata": {},
     "output_type": "execute_result"
    }
   ],
   "source": [
    "derivative = y.diff(x)\n",
    "derivative"
   ]
  },
  {
   "cell_type": "code",
   "execution_count": 6,
   "id": "5b0d1c26",
   "metadata": {},
   "outputs": [
    {
     "name": "stdout",
     "output_type": "stream",
     "text": [
      "-0.79\n",
      "2.36\n",
      "-2.08\n",
      "2.87\n",
      "1.06\n",
      "-0.27\n"
     ]
    }
   ],
   "source": [
    "solve_derivative = solve(derivative, x)\n",
    "for i in solve_derivative:\n",
    "    print(round(i, 2))"
   ]
  },
  {
   "cell_type": "code",
   "execution_count": 7,
   "id": "6049f542",
   "metadata": {},
   "outputs": [
    {
     "name": "stdout",
     "output_type": "stream",
     "text": [
      "-3.14\n",
      "-0.79\n",
      "2.36\n",
      "-2.08\n",
      "2.87\n",
      "1.06\n",
      "-0.27\n",
      "3.14\n"
     ]
    }
   ],
   "source": [
    "if solve_derivative[-1] != pi:\n",
    "    solve_derivative.append(pi)\n",
    "if solve_derivative[0] != -pi:\n",
    "    solve_derivative.insert(0, -pi)\n",
    "for i in solve_derivative:\n",
    "    print(round(i, 2))"
   ]
  },
  {
   "cell_type": "code",
   "execution_count": 8,
   "id": "84070855",
   "metadata": {},
   "outputs": [
    {
     "name": "stdout",
     "output_type": "stream",
     "text": [
      "Функция убывает на отрезке: -3.14, -2.08\n",
      "Функция возрастает на отрезке: -2.08, -0.79\n",
      "Функция убывает на отрезке: -0.79, -0.27\n",
      "Функция возрастает на отрезке: -0.27, 1.06\n",
      "Функция убывает на отрезке: 1.06, 2.36\n",
      "Функция возрастает на отрезке: 2.36, 2.87\n",
      "Функция убывает на отрезке: 2.87, 3.14\n"
     ]
    }
   ],
   "source": [
    "solve_derivative.sort()\n",
    "for i in range(len(solve_derivative) - 1):\n",
    "    res = derivative.subs(x, ((solve_derivative[i+1] + solve_derivative[i])/2.0))\n",
    "    if res > 0:\n",
    "        print(f'Функция возрастает на отрезке: {round(solve_derivative[i], 2)}, {round(solve_derivative[i+1], 2)}')\n",
    "    else:\n",
    "        print(f'Функция убывает на отрезке: {round(solve_derivative[i], 2)}, {round(solve_derivative[i+1], 2)}')"
   ]
  },
  {
   "cell_type": "markdown",
   "id": "5742bd60",
   "metadata": {},
   "source": [
    "3. Построить график"
   ]
  },
  {
   "cell_type": "code",
   "execution_count": 9,
   "id": "44e8f47a",
   "metadata": {},
   "outputs": [
    {
     "data": {
      "image/png": "[encoded data removed]",
      "text/plain": [
       "<Figure size 640x480 with 1 Axes>"
      ]
     },
     "metadata": {},
     "output_type": "display_data"
    }
   ],
   "source": [
    "graff = plot(y)"
   ]
  },
  {
   "cell_type": "markdown",
   "id": "1c765e40",
   "metadata": {},
   "source": [
    "4. Вычислить вершину"
   ]
  },
  {
   "cell_type": "code",
   "execution_count": 12,
   "id": "8cd9bd10",
   "metadata": {},
   "outputs": [
    {
     "name": "stdout",
     "output_type": "stream",
     "text": [
      "Максимум = 0.404. Минимум = -0.404\n"
     ]
    }
   ],
   "source": [
    "y_max = maximum(y, x, Interval(-pi, pi)).evalf()\n",
    "y_min = minimum(y, x, Interval(-pi, pi)).evalf()\n",
    "print(f'Максимум = {round(y_max, 3)}. Минимум = {round(y_min, 3)}')"
   ]
  },
  {
   "cell_type": "markdown",
   "id": "461d5a47",
   "metadata": {},
   "source": [
    "5. Определить промежутки, на котором f > 0 и f < 0"
   ]
  },
  {
   "cell_type": "code",
   "execution_count": 10,
   "id": "e97b0b5a",
   "metadata": {},
   "outputs": [
    {
     "data": {
      "text/plain": [
       "[-pi, 0, -pi/4, 3*pi/4, pi]"
      ]
     },
     "execution_count": 10,
     "metadata": {},
     "output_type": "execute_result"
    }
   ],
   "source": [
    "if roots[-1] != pi:\n",
    "    roots.append(pi)\n",
    "if roots[0] != -pi:\n",
    "    roots.insert(0, -pi)\n",
    "roots"
   ]
  },
  {
   "cell_type": "code",
   "execution_count": 11,
   "id": "93851235",
   "metadata": {},
   "outputs": [
    {
     "name": "stdout",
     "output_type": "stream",
     "text": [
      "f < 0: (-pi, -pi/4)\n",
      "f < 0: (-pi/4, 0)\n",
      "f > 0: (0, 3*pi/4)\n",
      "f > 0: (3*pi/4, pi)\n"
     ]
    }
   ],
   "source": [
    "roots.sort()\n",
    "for i in range(len(roots) - 1):\n",
    "    function = y.subs(x, (roots[i+1] + roots[i])/2.0)\n",
    "    if function > 0:\n",
    "        print(f'f > 0: ({roots[i]}, {roots[i+1]})')\n",
    "    else:\n",
    "        print(f'f < 0: ({roots[i]}, {roots[i+1]})')"
   ]
  },
  {
   "cell_type": "code",
   "execution_count": null,
   "id": "281ae5fa",
   "metadata": {},
   "outputs": [],
   "source": []
  }
 ],
 "metadata": {
  "kernelspec": {
   "display_name": "Python 3 (ipykernel)",
   "language": "python",
   "name": "python3"
  },
  "language_info": {
   "codemirror_mode": {
    "name": "ipython",
    "version": 3
   },
   "file_extension": ".py",
   "mimetype": "text/x-python",
   "name": "python",
   "nbconvert_exporter": "python",
   "pygments_lexer": "ipython3",
   "version": "3.9.13"
  }
 },
 "nbformat": 4,
 "nbformat_minor": 5
}
